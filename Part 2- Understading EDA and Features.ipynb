{
 "cells": [
  {
   "cell_type": "code",
   "execution_count": 1,
   "metadata": {},
   "outputs": [],
   "source": [
    "import pandas as pd\n",
    "import numpy as np\n",
    "import matplotlib.pyplot as plt"
   ]
  },
  {
   "cell_type": "code",
   "execution_count": 2,
   "metadata": {},
   "outputs": [
    {
     "data": {
      "text/html": [
       "<div>\n",
       "<style scoped>\n",
       "    .dataframe tbody tr th:only-of-type {\n",
       "        vertical-align: middle;\n",
       "    }\n",
       "\n",
       "    .dataframe tbody tr th {\n",
       "        vertical-align: top;\n",
       "    }\n",
       "\n",
       "    .dataframe thead th {\n",
       "        text-align: right;\n",
       "    }\n",
       "</style>\n",
       "<table border=\"1\" class=\"dataframe\">\n",
       "  <thead>\n",
       "    <tr style=\"text-align: right;\">\n",
       "      <th></th>\n",
       "      <th>TypeName</th>\n",
       "      <th>Inches</th>\n",
       "      <th>ScreenResolution</th>\n",
       "      <th>Cpu</th>\n",
       "      <th>Ram</th>\n",
       "      <th>OpSys</th>\n",
       "      <th>Weight</th>\n",
       "      <th>price_inr</th>\n",
       "      <th>TouchScreen</th>\n",
       "      <th>HDD</th>\n",
       "      <th>SSD</th>\n",
       "      <th>SSHD</th>\n",
       "      <th>FStorage</th>\n",
       "    </tr>\n",
       "  </thead>\n",
       "  <tbody>\n",
       "    <tr>\n",
       "      <th>0</th>\n",
       "      <td>Ultrabook</td>\n",
       "      <td>13.3</td>\n",
       "      <td>2560x1600</td>\n",
       "      <td>Intel i5</td>\n",
       "      <td>8</td>\n",
       "      <td>macOS</td>\n",
       "      <td>1.37</td>\n",
       "      <td>117893</td>\n",
       "      <td>No</td>\n",
       "      <td>0</td>\n",
       "      <td>128</td>\n",
       "      <td>0</td>\n",
       "      <td>0</td>\n",
       "    </tr>\n",
       "    <tr>\n",
       "      <th>1</th>\n",
       "      <td>Ultrabook</td>\n",
       "      <td>13.3</td>\n",
       "      <td>1440x900</td>\n",
       "      <td>Intel i5</td>\n",
       "      <td>8</td>\n",
       "      <td>macOS</td>\n",
       "      <td>1.34</td>\n",
       "      <td>79107</td>\n",
       "      <td>No</td>\n",
       "      <td>0</td>\n",
       "      <td>0</td>\n",
       "      <td>0</td>\n",
       "      <td>128</td>\n",
       "    </tr>\n",
       "    <tr>\n",
       "      <th>2</th>\n",
       "      <td>Notebook</td>\n",
       "      <td>15.6</td>\n",
       "      <td>1920x1080</td>\n",
       "      <td>Intel i5</td>\n",
       "      <td>8</td>\n",
       "      <td>No OS</td>\n",
       "      <td>1.86</td>\n",
       "      <td>50600</td>\n",
       "      <td>No</td>\n",
       "      <td>0</td>\n",
       "      <td>256</td>\n",
       "      <td>0</td>\n",
       "      <td>0</td>\n",
       "    </tr>\n",
       "    <tr>\n",
       "      <th>3</th>\n",
       "      <td>Ultrabook</td>\n",
       "      <td>15.4</td>\n",
       "      <td>2880x1800</td>\n",
       "      <td>Intel i7</td>\n",
       "      <td>16</td>\n",
       "      <td>macOS</td>\n",
       "      <td>1.83</td>\n",
       "      <td>223296</td>\n",
       "      <td>No</td>\n",
       "      <td>0</td>\n",
       "      <td>512</td>\n",
       "      <td>0</td>\n",
       "      <td>0</td>\n",
       "    </tr>\n",
       "    <tr>\n",
       "      <th>4</th>\n",
       "      <td>Ultrabook</td>\n",
       "      <td>13.3</td>\n",
       "      <td>2560x1600</td>\n",
       "      <td>Intel i5</td>\n",
       "      <td>8</td>\n",
       "      <td>macOS</td>\n",
       "      <td>1.37</td>\n",
       "      <td>158717</td>\n",
       "      <td>No</td>\n",
       "      <td>0</td>\n",
       "      <td>256</td>\n",
       "      <td>0</td>\n",
       "      <td>0</td>\n",
       "    </tr>\n",
       "    <tr>\n",
       "      <th>...</th>\n",
       "      <td>...</td>\n",
       "      <td>...</td>\n",
       "      <td>...</td>\n",
       "      <td>...</td>\n",
       "      <td>...</td>\n",
       "      <td>...</td>\n",
       "      <td>...</td>\n",
       "      <td>...</td>\n",
       "      <td>...</td>\n",
       "      <td>...</td>\n",
       "      <td>...</td>\n",
       "      <td>...</td>\n",
       "      <td>...</td>\n",
       "    </tr>\n",
       "    <tr>\n",
       "      <th>1298</th>\n",
       "      <td>2 in 1 Convertible</td>\n",
       "      <td>14.0</td>\n",
       "      <td>1920x1080</td>\n",
       "      <td>Intel i7</td>\n",
       "      <td>4</td>\n",
       "      <td>Windows 10</td>\n",
       "      <td>1.80</td>\n",
       "      <td>56144</td>\n",
       "      <td>Yes</td>\n",
       "      <td>0</td>\n",
       "      <td>128</td>\n",
       "      <td>0</td>\n",
       "      <td>0</td>\n",
       "    </tr>\n",
       "    <tr>\n",
       "      <th>1299</th>\n",
       "      <td>2 in 1 Convertible</td>\n",
       "      <td>13.3</td>\n",
       "      <td>3200x1800</td>\n",
       "      <td>Intel i7</td>\n",
       "      <td>16</td>\n",
       "      <td>Windows 10</td>\n",
       "      <td>1.30</td>\n",
       "      <td>131912</td>\n",
       "      <td>Yes</td>\n",
       "      <td>0</td>\n",
       "      <td>512</td>\n",
       "      <td>0</td>\n",
       "      <td>0</td>\n",
       "    </tr>\n",
       "    <tr>\n",
       "      <th>1300</th>\n",
       "      <td>Notebook</td>\n",
       "      <td>14.0</td>\n",
       "      <td>1366x768</td>\n",
       "      <td>Intel Celeron</td>\n",
       "      <td>2</td>\n",
       "      <td>Windows 10</td>\n",
       "      <td>1.50</td>\n",
       "      <td>20152</td>\n",
       "      <td>No</td>\n",
       "      <td>0</td>\n",
       "      <td>0</td>\n",
       "      <td>0</td>\n",
       "      <td>64</td>\n",
       "    </tr>\n",
       "    <tr>\n",
       "      <th>1301</th>\n",
       "      <td>Notebook</td>\n",
       "      <td>15.6</td>\n",
       "      <td>1366x768</td>\n",
       "      <td>Intel i7</td>\n",
       "      <td>6</td>\n",
       "      <td>Windows 10</td>\n",
       "      <td>2.19</td>\n",
       "      <td>67232</td>\n",
       "      <td>No</td>\n",
       "      <td>1000</td>\n",
       "      <td>0</td>\n",
       "      <td>0</td>\n",
       "      <td>0</td>\n",
       "    </tr>\n",
       "    <tr>\n",
       "      <th>1302</th>\n",
       "      <td>Notebook</td>\n",
       "      <td>15.6</td>\n",
       "      <td>1366x768</td>\n",
       "      <td>Intel Celeron</td>\n",
       "      <td>4</td>\n",
       "      <td>Windows 10</td>\n",
       "      <td>2.20</td>\n",
       "      <td>32472</td>\n",
       "      <td>No</td>\n",
       "      <td>500</td>\n",
       "      <td>0</td>\n",
       "      <td>0</td>\n",
       "      <td>0</td>\n",
       "    </tr>\n",
       "  </tbody>\n",
       "</table>\n",
       "<p>1303 rows × 13 columns</p>\n",
       "</div>"
      ],
      "text/plain": [
       "                TypeName  Inches ScreenResolution            Cpu  Ram  \\\n",
       "0              Ultrabook    13.3        2560x1600       Intel i5    8   \n",
       "1              Ultrabook    13.3         1440x900       Intel i5    8   \n",
       "2               Notebook    15.6        1920x1080       Intel i5    8   \n",
       "3              Ultrabook    15.4        2880x1800       Intel i7   16   \n",
       "4              Ultrabook    13.3        2560x1600       Intel i5    8   \n",
       "...                  ...     ...              ...            ...  ...   \n",
       "1298  2 in 1 Convertible    14.0        1920x1080       Intel i7    4   \n",
       "1299  2 in 1 Convertible    13.3        3200x1800       Intel i7   16   \n",
       "1300            Notebook    14.0         1366x768  Intel Celeron    2   \n",
       "1301            Notebook    15.6         1366x768       Intel i7    6   \n",
       "1302            Notebook    15.6         1366x768  Intel Celeron    4   \n",
       "\n",
       "           OpSys  Weight  price_inr TouchScreen   HDD  SSD  SSHD  FStorage  \n",
       "0          macOS    1.37     117893          No     0  128     0         0  \n",
       "1          macOS    1.34      79107          No     0    0     0       128  \n",
       "2          No OS    1.86      50600          No     0  256     0         0  \n",
       "3          macOS    1.83     223296          No     0  512     0         0  \n",
       "4          macOS    1.37     158717          No     0  256     0         0  \n",
       "...          ...     ...        ...         ...   ...  ...   ...       ...  \n",
       "1298  Windows 10    1.80      56144         Yes     0  128     0         0  \n",
       "1299  Windows 10    1.30     131912         Yes     0  512     0         0  \n",
       "1300  Windows 10    1.50      20152          No     0    0     0        64  \n",
       "1301  Windows 10    2.19      67232          No  1000    0     0         0  \n",
       "1302  Windows 10    2.20      32472          No   500    0     0         0  \n",
       "\n",
       "[1303 rows x 13 columns]"
      ]
     },
     "execution_count": 2,
     "metadata": {},
     "output_type": "execute_result"
    }
   ],
   "source": [
    "df=pd.read_csv('feature_engineered_laptop.csv')\n",
    "df"
   ]
  },
  {
   "cell_type": "code",
   "execution_count": 3,
   "metadata": {},
   "outputs": [
    {
     "data": {
      "text/html": [
       "<div>\n",
       "<style scoped>\n",
       "    .dataframe tbody tr th:only-of-type {\n",
       "        vertical-align: middle;\n",
       "    }\n",
       "\n",
       "    .dataframe tbody tr th {\n",
       "        vertical-align: top;\n",
       "    }\n",
       "\n",
       "    .dataframe thead th {\n",
       "        text-align: right;\n",
       "    }\n",
       "</style>\n",
       "<table border=\"1\" class=\"dataframe\">\n",
       "  <thead>\n",
       "    <tr style=\"text-align: right;\">\n",
       "      <th></th>\n",
       "      <th>TypeName</th>\n",
       "      <th>Inches</th>\n",
       "      <th>ScreenResolution</th>\n",
       "      <th>Cpu</th>\n",
       "      <th>Ram</th>\n",
       "      <th>OpSys</th>\n",
       "      <th>Weight</th>\n",
       "      <th>TouchScreen</th>\n",
       "      <th>HDD</th>\n",
       "      <th>SSD</th>\n",
       "      <th>SSHD</th>\n",
       "      <th>FStorage</th>\n",
       "      <th>Price</th>\n",
       "    </tr>\n",
       "  </thead>\n",
       "  <tbody>\n",
       "    <tr>\n",
       "      <th>0</th>\n",
       "      <td>Ultrabook</td>\n",
       "      <td>13.3</td>\n",
       "      <td>2560x1600</td>\n",
       "      <td>Intel i5</td>\n",
       "      <td>8</td>\n",
       "      <td>macOS</td>\n",
       "      <td>1.37</td>\n",
       "      <td>No</td>\n",
       "      <td>0</td>\n",
       "      <td>128</td>\n",
       "      <td>0</td>\n",
       "      <td>0</td>\n",
       "      <td>117893</td>\n",
       "    </tr>\n",
       "    <tr>\n",
       "      <th>1</th>\n",
       "      <td>Ultrabook</td>\n",
       "      <td>13.3</td>\n",
       "      <td>1440x900</td>\n",
       "      <td>Intel i5</td>\n",
       "      <td>8</td>\n",
       "      <td>macOS</td>\n",
       "      <td>1.34</td>\n",
       "      <td>No</td>\n",
       "      <td>0</td>\n",
       "      <td>0</td>\n",
       "      <td>0</td>\n",
       "      <td>128</td>\n",
       "      <td>79107</td>\n",
       "    </tr>\n",
       "    <tr>\n",
       "      <th>2</th>\n",
       "      <td>Notebook</td>\n",
       "      <td>15.6</td>\n",
       "      <td>1920x1080</td>\n",
       "      <td>Intel i5</td>\n",
       "      <td>8</td>\n",
       "      <td>No OS</td>\n",
       "      <td>1.86</td>\n",
       "      <td>No</td>\n",
       "      <td>0</td>\n",
       "      <td>256</td>\n",
       "      <td>0</td>\n",
       "      <td>0</td>\n",
       "      <td>50600</td>\n",
       "    </tr>\n",
       "    <tr>\n",
       "      <th>3</th>\n",
       "      <td>Ultrabook</td>\n",
       "      <td>15.4</td>\n",
       "      <td>2880x1800</td>\n",
       "      <td>Intel i7</td>\n",
       "      <td>16</td>\n",
       "      <td>macOS</td>\n",
       "      <td>1.83</td>\n",
       "      <td>No</td>\n",
       "      <td>0</td>\n",
       "      <td>512</td>\n",
       "      <td>0</td>\n",
       "      <td>0</td>\n",
       "      <td>223296</td>\n",
       "    </tr>\n",
       "    <tr>\n",
       "      <th>4</th>\n",
       "      <td>Ultrabook</td>\n",
       "      <td>13.3</td>\n",
       "      <td>2560x1600</td>\n",
       "      <td>Intel i5</td>\n",
       "      <td>8</td>\n",
       "      <td>macOS</td>\n",
       "      <td>1.37</td>\n",
       "      <td>No</td>\n",
       "      <td>0</td>\n",
       "      <td>256</td>\n",
       "      <td>0</td>\n",
       "      <td>0</td>\n",
       "      <td>158717</td>\n",
       "    </tr>\n",
       "    <tr>\n",
       "      <th>...</th>\n",
       "      <td>...</td>\n",
       "      <td>...</td>\n",
       "      <td>...</td>\n",
       "      <td>...</td>\n",
       "      <td>...</td>\n",
       "      <td>...</td>\n",
       "      <td>...</td>\n",
       "      <td>...</td>\n",
       "      <td>...</td>\n",
       "      <td>...</td>\n",
       "      <td>...</td>\n",
       "      <td>...</td>\n",
       "      <td>...</td>\n",
       "    </tr>\n",
       "    <tr>\n",
       "      <th>1298</th>\n",
       "      <td>2 in 1 Convertible</td>\n",
       "      <td>14.0</td>\n",
       "      <td>1920x1080</td>\n",
       "      <td>Intel i7</td>\n",
       "      <td>4</td>\n",
       "      <td>Windows 10</td>\n",
       "      <td>1.80</td>\n",
       "      <td>Yes</td>\n",
       "      <td>0</td>\n",
       "      <td>128</td>\n",
       "      <td>0</td>\n",
       "      <td>0</td>\n",
       "      <td>56144</td>\n",
       "    </tr>\n",
       "    <tr>\n",
       "      <th>1299</th>\n",
       "      <td>2 in 1 Convertible</td>\n",
       "      <td>13.3</td>\n",
       "      <td>3200x1800</td>\n",
       "      <td>Intel i7</td>\n",
       "      <td>16</td>\n",
       "      <td>Windows 10</td>\n",
       "      <td>1.30</td>\n",
       "      <td>Yes</td>\n",
       "      <td>0</td>\n",
       "      <td>512</td>\n",
       "      <td>0</td>\n",
       "      <td>0</td>\n",
       "      <td>131912</td>\n",
       "    </tr>\n",
       "    <tr>\n",
       "      <th>1300</th>\n",
       "      <td>Notebook</td>\n",
       "      <td>14.0</td>\n",
       "      <td>1366x768</td>\n",
       "      <td>Intel Celeron</td>\n",
       "      <td>2</td>\n",
       "      <td>Windows 10</td>\n",
       "      <td>1.50</td>\n",
       "      <td>No</td>\n",
       "      <td>0</td>\n",
       "      <td>0</td>\n",
       "      <td>0</td>\n",
       "      <td>64</td>\n",
       "      <td>20152</td>\n",
       "    </tr>\n",
       "    <tr>\n",
       "      <th>1301</th>\n",
       "      <td>Notebook</td>\n",
       "      <td>15.6</td>\n",
       "      <td>1366x768</td>\n",
       "      <td>Intel i7</td>\n",
       "      <td>6</td>\n",
       "      <td>Windows 10</td>\n",
       "      <td>2.19</td>\n",
       "      <td>No</td>\n",
       "      <td>1000</td>\n",
       "      <td>0</td>\n",
       "      <td>0</td>\n",
       "      <td>0</td>\n",
       "      <td>67232</td>\n",
       "    </tr>\n",
       "    <tr>\n",
       "      <th>1302</th>\n",
       "      <td>Notebook</td>\n",
       "      <td>15.6</td>\n",
       "      <td>1366x768</td>\n",
       "      <td>Intel Celeron</td>\n",
       "      <td>4</td>\n",
       "      <td>Windows 10</td>\n",
       "      <td>2.20</td>\n",
       "      <td>No</td>\n",
       "      <td>500</td>\n",
       "      <td>0</td>\n",
       "      <td>0</td>\n",
       "      <td>0</td>\n",
       "      <td>32472</td>\n",
       "    </tr>\n",
       "  </tbody>\n",
       "</table>\n",
       "<p>1303 rows × 13 columns</p>\n",
       "</div>"
      ],
      "text/plain": [
       "                TypeName  Inches ScreenResolution            Cpu  Ram  \\\n",
       "0              Ultrabook    13.3        2560x1600       Intel i5    8   \n",
       "1              Ultrabook    13.3         1440x900       Intel i5    8   \n",
       "2               Notebook    15.6        1920x1080       Intel i5    8   \n",
       "3              Ultrabook    15.4        2880x1800       Intel i7   16   \n",
       "4              Ultrabook    13.3        2560x1600       Intel i5    8   \n",
       "...                  ...     ...              ...            ...  ...   \n",
       "1298  2 in 1 Convertible    14.0        1920x1080       Intel i7    4   \n",
       "1299  2 in 1 Convertible    13.3        3200x1800       Intel i7   16   \n",
       "1300            Notebook    14.0         1366x768  Intel Celeron    2   \n",
       "1301            Notebook    15.6         1366x768       Intel i7    6   \n",
       "1302            Notebook    15.6         1366x768  Intel Celeron    4   \n",
       "\n",
       "           OpSys  Weight TouchScreen   HDD  SSD  SSHD  FStorage   Price  \n",
       "0          macOS    1.37          No     0  128     0         0  117893  \n",
       "1          macOS    1.34          No     0    0     0       128   79107  \n",
       "2          No OS    1.86          No     0  256     0         0   50600  \n",
       "3          macOS    1.83          No     0  512     0         0  223296  \n",
       "4          macOS    1.37          No     0  256     0         0  158717  \n",
       "...          ...     ...         ...   ...  ...   ...       ...     ...  \n",
       "1298  Windows 10    1.80         Yes     0  128     0         0   56144  \n",
       "1299  Windows 10    1.30         Yes     0  512     0         0  131912  \n",
       "1300  Windows 10    1.50          No     0    0     0        64   20152  \n",
       "1301  Windows 10    2.19          No  1000    0     0         0   67232  \n",
       "1302  Windows 10    2.20          No   500    0     0         0   32472  \n",
       "\n",
       "[1303 rows x 13 columns]"
      ]
     },
     "execution_count": 3,
     "metadata": {},
     "output_type": "execute_result"
    }
   ],
   "source": [
    "#moved price column to the end\n",
    "\n",
    "df['Price']= df['price_inr']\n",
    "df.drop(columns=['price_inr'], inplace = True)\n",
    "df"
   ]
  },
  {
   "cell_type": "markdown",
   "metadata": {},
   "source": [
    "# EDA"
   ]
  },
  {
   "cell_type": "code",
   "execution_count": 4,
   "metadata": {},
   "outputs": [
    {
     "data": {
      "text/plain": [
       "(1303, 13)"
      ]
     },
     "execution_count": 4,
     "metadata": {},
     "output_type": "execute_result"
    }
   ],
   "source": [
    "df.shape"
   ]
  },
  {
   "cell_type": "code",
   "execution_count": 5,
   "metadata": {},
   "outputs": [],
   "source": [
    "import seaborn as sns\n"
   ]
  },
  {
   "cell_type": "code",
   "execution_count": 6,
   "metadata": {},
   "outputs": [
    {
     "data": {
      "text/plain": [
       "<matplotlib.axes._subplots.AxesSubplot at 0x7fa12d39bfd0>"
      ]
     },
     "execution_count": 6,
     "metadata": {},
     "output_type": "execute_result"
    },
    {
     "data": {
      "image/png": "[encoded data removed]",
      "text/plain": [
       "<Figure size 720x360 with 1 Axes>"
      ]
     },
     "metadata": {
      "needs_background": "light"
     },
     "output_type": "display_data"
    }
   ],
   "source": [
    "plt.subplots(figsize=(10,5))\n",
    "sns.barplot(x='TypeName',y='Price',data=df)"
   ]
  },
  {
   "cell_type": "markdown",
   "metadata": {},
   "source": [
    "As can be seen, on average, workstation laptops are higher priced than other category of laptops. This is to be expected as workstation laptops have higher spec configurations (better cpu, more memory, faster clockspeed, etc) to meet the demands of clients in the proffesional workspace.\n",
    "\n",
    "Gaming laptops present the second highest priced category of laptops due to the same reasons as above.\n",
    "\n",
    "Ultrabooks and 2 in 1 convertibles are cheaper than gaming laptops (on average). \n",
    "\n",
    "Notebooks and netbooks are relatively cheaper than other category of laptops."
   ]
  },
  {
   "cell_type": "code",
   "execution_count": 7,
   "metadata": {},
   "outputs": [
    {
     "data": {
      "text/plain": [
       "<matplotlib.axes._subplots.AxesSubplot at 0x7fa125290190>"
      ]
     },
     "execution_count": 7,
     "metadata": {},
     "output_type": "execute_result"
    },
    {
     "data": {
      "image/png": "[encoded data removed]",
      "text/plain": [
       "<Figure size 720x720 with 1 Axes>"
      ]
     },
     "metadata": {
      "needs_background": "light"
     },
     "output_type": "display_data"
    }
   ],
   "source": [
    "plt.subplots(figsize=(10,10))\n",
    "sns.barplot(x='Inches',y='Price',data=df)"
   ]
  },
  {
   "cell_type": "markdown",
   "metadata": {},
   "source": [
    "Here we can see that the price of laptops can't solely be judge through the size of their displays (no direct linear correlation between screen size and price). This feature will still be kept for modelling later (high variance)."
   ]
  },
  {
   "cell_type": "code",
   "execution_count": 8,
   "metadata": {},
   "outputs": [
    {
     "data": {
      "text/plain": [
       "<matplotlib.axes._subplots.AxesSubplot at 0x7fa124faaa10>"
      ]
     },
     "execution_count": 8,
     "metadata": {},
     "output_type": "execute_result"
    },
    {
     "data": {
      "image/png": "[encoded data removed]",
      "text/plain": [
       "<Figure size 1152x720 with 1 Axes>"
      ]
     },
     "metadata": {
      "needs_background": "light"
     },
     "output_type": "display_data"
    }
   ],
   "source": [
    "plt.subplots(figsize=(16,10))\n",
    "sns.barplot(x='ScreenResolution',y='Price',data=df)"
   ]
  },
  {
   "cell_type": "markdown",
   "metadata": {},
   "source": [
    "Screens have higher resolutions are generally higher priced. However , an outlier resolution , specifically (2736 * 1824) is lower priced than others. \n",
    "\n"
   ]
  },
  {
   "cell_type": "code",
   "execution_count": 9,
   "metadata": {},
   "outputs": [
    {
     "name": "stdout",
     "output_type": "stream",
     "text": [
      "Resoltuion          Count\n",
      "2560x1600           6\n",
      "1440x900            4\n",
      "1920x1080           841\n",
      "2880x1800           4\n",
      "1366x768            308\n",
      "2304x1440           6\n",
      "3200x1800           27\n",
      "1920x1200           5\n",
      "2256x1504           6\n",
      "3840x2160           43\n",
      "2160x1440           2\n",
      "2560x1440           23\n",
      "1600x900            23\n",
      "2736x1824           1\n",
      "2400x1600           4\n"
     ]
    }
   ],
   "source": [
    "resolutionList = list(df['ScreenResolution'].unique())\n",
    "\n",
    "print(\"%-20s%s\"%(\"Resoltuion\",\"Count\"))\n",
    "for i in resolutionList:\n",
    "    print(\"%-20s%d\"%(i,list(df['ScreenResolution']).count(i)))\n"
   ]
  },
  {
   "cell_type": "markdown",
   "metadata": {},
   "source": [
    "Since there's only 1 laptop with outlier resolution (2736 x 1824), this laptop would be removed."
   ]
  },
  {
   "cell_type": "code",
   "execution_count": 10,
   "metadata": {},
   "outputs": [
    {
     "name": "stdout",
     "output_type": "stream",
     "text": [
      "(1302, 13)\n"
     ]
    }
   ],
   "source": [
    "#REmoval of laptop with outlier resolution\n",
    "df = df.loc[~df['ScreenResolution'].str.contains('2736x1824')]\n",
    "df['ScreenResolution'].unique()\n",
    "print(df.shape)"
   ]
  },
  {
   "cell_type": "code",
   "execution_count": 11,
   "metadata": {},
   "outputs": [
    {
     "data": {
      "text/plain": [
       "<matplotlib.axes._subplots.AxesSubplot at 0x7fa125116b90>"
      ]
     },
     "execution_count": 11,
     "metadata": {},
     "output_type": "execute_result"
    },
    {
     "data": {
      "image/png": "[encoded data removed]",
      "text/plain": [
       "<Figure size 360x360 with 1 Axes>"
      ]
     },
     "metadata": {
      "needs_background": "light"
     },
     "output_type": "display_data"
    }
   ],
   "source": [
    "plt.subplots(figsize=(5,5))\n",
    "sns.barplot(x='TouchScreen',y='Price',data=df)"
   ]
  },
  {
   "cell_type": "markdown",
   "metadata": {},
   "source": [
    "Laptops with touchscreen capabilities are priced higher on average."
   ]
  },
  {
   "cell_type": "code",
   "execution_count": 12,
   "metadata": {},
   "outputs": [
    {
     "data": {
      "text/plain": [
       "<matplotlib.axes._subplots.AxesSubplot at 0x7fa1250a7690>"
      ]
     },
     "execution_count": 12,
     "metadata": {},
     "output_type": "execute_result"
    },
    {
     "data": {
      "image/png": "[encoded data removed]",
      "text/plain": [
       "<Figure size 1440x720 with 1 Axes>"
      ]
     },
     "metadata": {
      "needs_background": "light"
     },
     "output_type": "display_data"
    }
   ],
   "source": [
    "plt.subplots(figsize=(20,10))\n",
    "sns.barplot(x='Cpu',y='Price',data=df)"
   ]
  },
  {
   "cell_type": "markdown",
   "metadata": {},
   "source": [
    "Higher powered processors/CPU are generally higher priced (Xeon > i7>i5>i3). The same goes for AMD CPus (Ryzen > AMD A series> E series...). Interestingly, laptops with intel M processors are higher priced than intel i5 processors (which is not expected as intel core M processors are lower powered CPUs). "
   ]
  },
  {
   "cell_type": "code",
   "execution_count": 13,
   "metadata": {},
   "outputs": [
    {
     "data": {
      "text/html": [
       "<div>\n",
       "<style scoped>\n",
       "    .dataframe tbody tr th:only-of-type {\n",
       "        vertical-align: middle;\n",
       "    }\n",
       "\n",
       "    .dataframe tbody tr th {\n",
       "        vertical-align: top;\n",
       "    }\n",
       "\n",
       "    .dataframe thead th {\n",
       "        text-align: right;\n",
       "    }\n",
       "</style>\n",
       "<table border=\"1\" class=\"dataframe\">\n",
       "  <thead>\n",
       "    <tr style=\"text-align: right;\">\n",
       "      <th></th>\n",
       "      <th>Inches</th>\n",
       "      <th>Ram</th>\n",
       "      <th>Weight</th>\n",
       "      <th>HDD</th>\n",
       "      <th>SSD</th>\n",
       "      <th>SSHD</th>\n",
       "      <th>FStorage</th>\n",
       "      <th>Price</th>\n",
       "    </tr>\n",
       "    <tr>\n",
       "      <th>Cpu</th>\n",
       "      <th></th>\n",
       "      <th></th>\n",
       "      <th></th>\n",
       "      <th></th>\n",
       "      <th></th>\n",
       "      <th></th>\n",
       "      <th></th>\n",
       "      <th></th>\n",
       "    </tr>\n",
       "  </thead>\n",
       "  <tbody>\n",
       "    <tr>\n",
       "      <th>Intel M</th>\n",
       "      <td>12.521053</td>\n",
       "      <td>7.789474</td>\n",
       "      <td>1.088421</td>\n",
       "      <td>0.000000</td>\n",
       "      <td>255.157895</td>\n",
       "      <td>0.000000</td>\n",
       "      <td>87.578947</td>\n",
       "      <td>116532.368421</td>\n",
       "    </tr>\n",
       "    <tr>\n",
       "      <th>Intel i5</th>\n",
       "      <td>14.802600</td>\n",
       "      <td>6.959811</td>\n",
       "      <td>1.900095</td>\n",
       "      <td>325.361702</td>\n",
       "      <td>159.659574</td>\n",
       "      <td>5.929078</td>\n",
       "      <td>3.026005</td>\n",
       "      <td>89321.342790</td>\n",
       "    </tr>\n",
       "  </tbody>\n",
       "</table>\n",
       "</div>"
      ],
      "text/plain": [
       "             Inches       Ram    Weight         HDD         SSD      SSHD  \\\n",
       "Cpu                                                                         \n",
       "Intel M   12.521053  7.789474  1.088421    0.000000  255.157895  0.000000   \n",
       "Intel i5  14.802600  6.959811  1.900095  325.361702  159.659574  5.929078   \n",
       "\n",
       "           FStorage          Price  \n",
       "Cpu                                 \n",
       "Intel M   87.578947  116532.368421  \n",
       "Intel i5   3.026005   89321.342790  "
      ]
     },
     "execution_count": 13,
     "metadata": {},
     "output_type": "execute_result"
    }
   ],
   "source": [
    "standby_df = df.loc[df['Cpu'].str.contains('Intel M |Intel i5')]\n",
    "standby_df.groupby(['Cpu']).mean()"
   ]
  },
  {
   "cell_type": "markdown",
   "metadata": {},
   "source": [
    "As shown above, Intel M laptops a higher average in RAM capacity and SSD capacity than Intel i5 laptops. Intel M laptops are also much lighter than Intel i5 laptops. These factors contribute to the higher average prices for intel M laptops."
   ]
  },
  {
   "cell_type": "code",
   "execution_count": 14,
   "metadata": {},
   "outputs": [
    {
     "data": {
      "text/plain": [
       "<matplotlib.axes._subplots.AxesSubplot at 0x7fa124dcab90>"
      ]
     },
     "execution_count": 14,
     "metadata": {},
     "output_type": "execute_result"
    },
    {
     "data": {
      "image/png": "[encoded data removed]",
      "text/plain": [
       "<Figure size 1440x720 with 1 Axes>"
      ]
     },
     "metadata": {
      "needs_background": "light"
     },
     "output_type": "display_data"
    }
   ],
   "source": [
    "plt.subplots(figsize=(20,10))\n",
    "sns.barplot(x='Ram',y='Price',data=df)"
   ]
  },
  {
   "cell_type": "markdown",
   "metadata": {},
   "source": [
    "laptops with higher ram shows higher prices"
   ]
  },
  {
   "cell_type": "code",
   "execution_count": 15,
   "metadata": {},
   "outputs": [
    {
     "data": {
      "text/plain": [
       "<matplotlib.axes._subplots.AxesSubplot at 0x7fa124dbfb90>"
      ]
     },
     "execution_count": 15,
     "metadata": {},
     "output_type": "execute_result"
    },
    {
     "data": {
      "image/png": "[encoded data removed]",
      "text/plain": [
       "<Figure size 1440x720 with 1 Axes>"
      ]
     },
     "metadata": {
      "needs_background": "light"
     },
     "output_type": "display_data"
    }
   ],
   "source": [
    "plt.subplots(figsize=(20,10))\n",
    "sns.barplot(x='OpSys',y='Price',data=df)"
   ]
  },
  {
   "cell_type": "code",
   "execution_count": 16,
   "metadata": {},
   "outputs": [
    {
     "data": {
      "text/html": [
       "<div>\n",
       "<style scoped>\n",
       "    .dataframe tbody tr th:only-of-type {\n",
       "        vertical-align: middle;\n",
       "    }\n",
       "\n",
       "    .dataframe tbody tr th {\n",
       "        vertical-align: top;\n",
       "    }\n",
       "\n",
       "    .dataframe thead th {\n",
       "        text-align: right;\n",
       "    }\n",
       "</style>\n",
       "<table border=\"1\" class=\"dataframe\">\n",
       "  <thead>\n",
       "    <tr style=\"text-align: right;\">\n",
       "      <th></th>\n",
       "      <th>Inches</th>\n",
       "      <th>Ram</th>\n",
       "      <th>Weight</th>\n",
       "      <th>HDD</th>\n",
       "      <th>SSD</th>\n",
       "      <th>SSHD</th>\n",
       "      <th>FStorage</th>\n",
       "      <th>Price</th>\n",
       "    </tr>\n",
       "  </thead>\n",
       "  <tbody>\n",
       "    <tr>\n",
       "      <th>Inches</th>\n",
       "      <td>1.000000</td>\n",
       "      <td>0.237658</td>\n",
       "      <td>0.827674</td>\n",
       "      <td>0.531531</td>\n",
       "      <td>-0.109293</td>\n",
       "      <td>0.054003</td>\n",
       "      <td>-0.227583</td>\n",
       "      <td>0.066901</td>\n",
       "    </tr>\n",
       "    <tr>\n",
       "      <th>Ram</th>\n",
       "      <td>0.237658</td>\n",
       "      <td>1.000000</td>\n",
       "      <td>0.383697</td>\n",
       "      <td>0.097622</td>\n",
       "      <td>0.603827</td>\n",
       "      <td>0.038430</td>\n",
       "      <td>-0.059563</td>\n",
       "      <td>0.742988</td>\n",
       "    </tr>\n",
       "    <tr>\n",
       "      <th>Weight</th>\n",
       "      <td>0.827674</td>\n",
       "      <td>0.383697</td>\n",
       "      <td>1.000000</td>\n",
       "      <td>0.515695</td>\n",
       "      <td>-0.063402</td>\n",
       "      <td>0.095119</td>\n",
       "      <td>-0.178792</td>\n",
       "      <td>0.209803</td>\n",
       "    </tr>\n",
       "    <tr>\n",
       "      <th>HDD</th>\n",
       "      <td>0.531531</td>\n",
       "      <td>0.097622</td>\n",
       "      <td>0.515695</td>\n",
       "      <td>1.000000</td>\n",
       "      <td>-0.400639</td>\n",
       "      <td>-0.076773</td>\n",
       "      <td>-0.116794</td>\n",
       "      <td>-0.096326</td>\n",
       "    </tr>\n",
       "    <tr>\n",
       "      <th>SSD</th>\n",
       "      <td>-0.109293</td>\n",
       "      <td>0.603827</td>\n",
       "      <td>-0.063402</td>\n",
       "      <td>-0.400639</td>\n",
       "      <td>1.000000</td>\n",
       "      <td>-0.059862</td>\n",
       "      <td>-0.146829</td>\n",
       "      <td>0.670799</td>\n",
       "    </tr>\n",
       "    <tr>\n",
       "      <th>SSHD</th>\n",
       "      <td>0.054003</td>\n",
       "      <td>0.038430</td>\n",
       "      <td>0.095119</td>\n",
       "      <td>-0.076773</td>\n",
       "      <td>-0.059862</td>\n",
       "      <td>1.000000</td>\n",
       "      <td>-0.014246</td>\n",
       "      <td>0.007921</td>\n",
       "    </tr>\n",
       "    <tr>\n",
       "      <th>FStorage</th>\n",
       "      <td>-0.227583</td>\n",
       "      <td>-0.059563</td>\n",
       "      <td>-0.178792</td>\n",
       "      <td>-0.116794</td>\n",
       "      <td>-0.146829</td>\n",
       "      <td>-0.014246</td>\n",
       "      <td>1.000000</td>\n",
       "      <td>-0.039126</td>\n",
       "    </tr>\n",
       "    <tr>\n",
       "      <th>Price</th>\n",
       "      <td>0.066901</td>\n",
       "      <td>0.742988</td>\n",
       "      <td>0.209803</td>\n",
       "      <td>-0.096326</td>\n",
       "      <td>0.670799</td>\n",
       "      <td>0.007921</td>\n",
       "      <td>-0.039126</td>\n",
       "      <td>1.000000</td>\n",
       "    </tr>\n",
       "  </tbody>\n",
       "</table>\n",
       "</div>"
      ],
      "text/plain": [
       "            Inches       Ram    Weight       HDD       SSD      SSHD  \\\n",
       "Inches    1.000000  0.237658  0.827674  0.531531 -0.109293  0.054003   \n",
       "Ram       0.237658  1.000000  0.383697  0.097622  0.603827  0.038430   \n",
       "Weight    0.827674  0.383697  1.000000  0.515695 -0.063402  0.095119   \n",
       "HDD       0.531531  0.097622  0.515695  1.000000 -0.400639 -0.076773   \n",
       "SSD      -0.109293  0.603827 -0.063402 -0.400639  1.000000 -0.059862   \n",
       "SSHD      0.054003  0.038430  0.095119 -0.076773 -0.059862  1.000000   \n",
       "FStorage -0.227583 -0.059563 -0.178792 -0.116794 -0.146829 -0.014246   \n",
       "Price     0.066901  0.742988  0.209803 -0.096326  0.670799  0.007921   \n",
       "\n",
       "          FStorage     Price  \n",
       "Inches   -0.227583  0.066901  \n",
       "Ram      -0.059563  0.742988  \n",
       "Weight   -0.178792  0.209803  \n",
       "HDD      -0.116794 -0.096326  \n",
       "SSD      -0.146829  0.670799  \n",
       "SSHD     -0.014246  0.007921  \n",
       "FStorage  1.000000 -0.039126  \n",
       "Price    -0.039126  1.000000  "
      ]
     },
     "execution_count": 16,
     "metadata": {},
     "output_type": "execute_result"
    }
   ],
   "source": [
    "df.corr()"
   ]
  },
  {
   "cell_type": "code",
   "execution_count": 17,
   "metadata": {},
   "outputs": [
    {
     "data": {
      "text/plain": [
       "<matplotlib.axes._subplots.AxesSubplot at 0x7fa12d5d5890>"
      ]
     },
     "execution_count": 17,
     "metadata": {},
     "output_type": "execute_result"
    },
    {
     "data": {
      "image/png": "[encoded data removed]",
      "text/plain": [
       "<Figure size 1296x720 with 2 Axes>"
      ]
     },
     "metadata": {
      "needs_background": "light"
     },
     "output_type": "display_data"
    }
   ],
   "source": [
    "plt.figure(figsize=(18,10))\n",
    "sns.heatmap(df.corr(),annot=True, cmap=\"coolwarm\")"
   ]
  },
  {
   "cell_type": "markdown",
   "metadata": {},
   "source": [
    "# Saving EDA-ed data to csv file"
   ]
  },
  {
   "cell_type": "code",
   "execution_count": 18,
   "metadata": {},
   "outputs": [],
   "source": [
    "df.to_csv('EDA-ed_Laptop.csv',index=False)"
   ]
  }
 ],
 "metadata": {
  "kernelspec": {
   "display_name": "Python 3",
   "language": "python",
   "name": "python3"
  },
  "language_info": {
   "codemirror_mode": {
    "name": "ipython",
    "version": 3
   },
   "file_extension": ".py",
   "mimetype": "text/x-python",
   "name": "python",
   "nbconvert_exporter": "python",
   "pygments_lexer": "ipython3",
   "version": "3.7.8"
  }
 },
 "nbformat": 4,
 "nbformat_minor": 4
}
